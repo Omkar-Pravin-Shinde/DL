{
  "nbformat": 4,
  "nbformat_minor": 0,
  "metadata": {
    "colab": {
      "provenance": []
    },
    "kernelspec": {
      "name": "python3",
      "display_name": "Python 3"
    },
    "language_info": {
      "name": "python"
    }
  },
  "cells": [
    {
      "cell_type": "code",
      "execution_count": null,
      "metadata": {
        "id": "fz0rUD9Mq1RR"
      },
      "outputs": [],
      "source": [
        "# example of using a pre-trained model as a classifier\n",
        "from tensorflow.keras.preprocessing.image import load_img\n",
        "from tensorflow.keras.preprocessing.image import img_to_array\n",
        "from keras.applications.vgg16 import preprocess_input\n",
        "from keras.applications.vgg16 import decode_predictions\n",
        "from keras.applications.vgg16 import VGG16\n",
        "import matplotlib.pyplot as plt\n",
        "from google.colab import files\n",
        "\n",
        "\n",
        "#uploaded = files.upload()\n",
        "\n",
        "\n",
        "# load an image from file\n",
        "image = load_img('cat.jpg', target_size=(224, 224))\n",
        "# convert the image pixels to a numpy array\n",
        "image_arr = img_to_array(image)\n",
        "# reshape data for the model\n",
        "#batch_size, height, width, channels\n",
        "image_arr = image_arr.reshape((1, image_arr.shape[0], image_arr.shape[1], image_arr.shape[2]))\n",
        "# prepare the image for the VGG model\n",
        "image_arr = preprocess_input(image_arr)\n",
        "# load the model\n",
        "#Visual Geometry Group 16\n",
        "model = VGG16()\n",
        "# predict the probability across all output classes\n",
        "yhat = model.predict(image_arr)\n",
        "# convert the probabilities to class labels\n",
        "label = decode_predictions(yhat)\n",
        "# retrieve the most likely result, e.g. highest probability\n",
        "label = label[0][0]\n",
        "# print the classification\n",
        "print('%s (%.2f%%)' % (label[1], label[2]*100))\n",
        "plt.imshow(image)\n",
        "plt.show()"
      ]
    }
  ]
}